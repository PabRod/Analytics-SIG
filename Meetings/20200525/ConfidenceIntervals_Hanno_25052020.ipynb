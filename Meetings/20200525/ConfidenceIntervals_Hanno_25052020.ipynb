{
 "cells": [
  {
   "cell_type": "code",
   "execution_count": null,
   "metadata": {},
   "outputs": [],
   "source": [
    "# Let's say we want to do an experiment: Find the average height of all Dutch adults.\n",
    "# But we we don't have the time and money to measure all 17 million\n",
    "# So we will measure a subset of 100 people and compute their average height.\n",
    "# And the standard deviation within that subset to compute a (95%) confidence interval around the average height \n",
    "# of that subset."
   ]
  },
  {
   "cell_type": "code",
   "execution_count": 1,
   "metadata": {},
   "outputs": [
    {
     "name": "stdout",
     "output_type": "stream",
     "text": [
      "1.6999981851397132 1.1361002177995019 2.2699640808957504 0.10000317650998274\n"
     ]
    }
   ],
   "source": [
    "import numpy as np\n",
    "from scipy.stats import norm\n",
    "loc = 1.7\n",
    "scale = 0.1\n",
    "size = 1.7e7\n",
    "heights_of_all_Dutch_adults = np.random.normal(loc=loc, scale=scale, size=int(size)).copy()\n",
    "print(heights_of_all_Dutch_adults.mean(), heights_of_all_Dutch_adults.min(), heights_of_all_Dutch_adults.max(), \n",
    "      heights_of_all_Dutch_adults.std())"
   ]
  },
  {
   "cell_type": "code",
   "execution_count": 69,
   "metadata": {},
   "outputs": [],
   "source": [
    "# Let us take a 1000 \"measurements\" (samples).\n",
    "# Calculate the 95% confidence interval for each measurement."
   ]
  },
  {
   "cell_type": "code",
   "execution_count": 3,
   "metadata": {},
   "outputs": [],
   "source": [
    "sample_size=100\n",
    "number_of_samples = 1000\n",
    "all_samples = [heights_of_all_Dutch_adults[i*sample_size:(i+1)*sample_size] for i in range(number_of_samples)]"
   ]
  },
  {
   "cell_type": "code",
   "execution_count": 4,
   "metadata": {},
   "outputs": [],
   "source": [
    "sample_means = [sample.mean() for sample in all_samples]"
   ]
  },
  {
   "cell_type": "code",
   "execution_count": 5,
   "metadata": {},
   "outputs": [],
   "source": [
    "sample_stds = [sample.std() for sample in all_samples]"
   ]
  },
  {
   "cell_type": "code",
   "execution_count": 19,
   "metadata": {},
   "outputs": [
    {
     "name": "stdout",
     "output_type": "stream",
     "text": [
      "1.959963984540054\n"
     ]
    }
   ],
   "source": [
    "confidence_level = 0.95\n",
    "alpha = 1 - confidence_level\n",
    "z = norm.ppf(1 - alpha/2)\n",
    "print(z)\n",
    "lower_limits = [sample_means[i] - z*sample_stds[i]/np.sqrt(sample_size) for i in range(number_of_samples)]\n",
    "upper_limits = [sample_means[i] + z*sample_stds[i]/np.sqrt(sample_size) for i in range(number_of_samples)]"
   ]
  },
  {
   "cell_type": "code",
   "execution_count": null,
   "metadata": {},
   "outputs": [],
   "source": [
    "# Now the core message of this talk: Verify that 95% of all measurements contain the true mean."
   ]
  },
  {
   "cell_type": "code",
   "execution_count": 20,
   "metadata": {},
   "outputs": [],
   "source": [
    "inside_or_out = [1 if (loc > lower_limits[i] and loc < upper_limits[i]) else 0 for i in range(number_of_samples)]"
   ]
  },
  {
   "cell_type": "code",
   "execution_count": 21,
   "metadata": {},
   "outputs": [
    {
     "data": {
      "text/plain": [
       "948"
      ]
     },
     "execution_count": 21,
     "metadata": {},
     "output_type": "execute_result"
    }
   ],
   "source": [
    "sum(inside_or_out)"
   ]
  },
  {
   "cell_type": "code",
   "execution_count": 22,
   "metadata": {},
   "outputs": [],
   "source": [
    "fraction_in = sum(inside_or_out)/number_of_samples"
   ]
  },
  {
   "cell_type": "code",
   "execution_count": 10,
   "metadata": {},
   "outputs": [
    {
     "data": {
      "text/plain": [
       "0.948"
      ]
     },
     "execution_count": 10,
     "metadata": {},
     "output_type": "execute_result"
    }
   ],
   "source": [
    "fraction_in"
   ]
  },
  {
   "cell_type": "code",
   "execution_count": null,
   "metadata": {},
   "outputs": [],
   "source": []
  }
 ],
 "metadata": {
  "kernelspec": {
   "display_name": "Python 3",
   "language": "python",
   "name": "python3"
  },
  "language_info": {
   "codemirror_mode": {
    "name": "ipython",
    "version": 3
   },
   "file_extension": ".py",
   "mimetype": "text/x-python",
   "name": "python",
   "nbconvert_exporter": "python",
   "pygments_lexer": "ipython3",
   "version": "3.7.6"
  }
 },
 "nbformat": 4,
 "nbformat_minor": 4
}
